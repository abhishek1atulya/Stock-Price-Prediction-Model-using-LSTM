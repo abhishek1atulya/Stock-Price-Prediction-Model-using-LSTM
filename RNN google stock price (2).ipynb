{
 "cells": [
  {
   "cell_type": "markdown",
   "id": "c1039ba9",
   "metadata": {},
   "source": [
    "# Recurrent Neural Network"
   ]
  },
  {
   "cell_type": "code",
   "execution_count": 2,
   "id": "ec9589c5",
   "metadata": {},
   "outputs": [],
   "source": [
    "import numpy as np\n",
    "import pandas as pd\n",
    "import matplotlib.pyplot as plt"
   ]
  },
  {
   "cell_type": "code",
   "execution_count": 3,
   "id": "3adc5a7e",
   "metadata": {},
   "outputs": [
    {
     "data": {
      "text/html": [
       "<div>\n",
       "<style scoped>\n",
       "    .dataframe tbody tr th:only-of-type {\n",
       "        vertical-align: middle;\n",
       "    }\n",
       "\n",
       "    .dataframe tbody tr th {\n",
       "        vertical-align: top;\n",
       "    }\n",
       "\n",
       "    .dataframe thead th {\n",
       "        text-align: right;\n",
       "    }\n",
       "</style>\n",
       "<table border=\"1\" class=\"dataframe\">\n",
       "  <thead>\n",
       "    <tr style=\"text-align: right;\">\n",
       "      <th></th>\n",
       "      <th>Date</th>\n",
       "      <th>Open</th>\n",
       "      <th>High</th>\n",
       "      <th>Low</th>\n",
       "      <th>Close</th>\n",
       "      <th>Volume</th>\n",
       "    </tr>\n",
       "  </thead>\n",
       "  <tbody>\n",
       "    <tr>\n",
       "      <th>0</th>\n",
       "      <td>1/3/2012</td>\n",
       "      <td>325.25</td>\n",
       "      <td>332.83</td>\n",
       "      <td>324.97</td>\n",
       "      <td>663.59</td>\n",
       "      <td>7,380,500</td>\n",
       "    </tr>\n",
       "    <tr>\n",
       "      <th>1</th>\n",
       "      <td>1/4/2012</td>\n",
       "      <td>331.27</td>\n",
       "      <td>333.87</td>\n",
       "      <td>329.08</td>\n",
       "      <td>666.45</td>\n",
       "      <td>5,749,400</td>\n",
       "    </tr>\n",
       "    <tr>\n",
       "      <th>2</th>\n",
       "      <td>1/5/2012</td>\n",
       "      <td>329.83</td>\n",
       "      <td>330.75</td>\n",
       "      <td>326.89</td>\n",
       "      <td>657.21</td>\n",
       "      <td>6,590,300</td>\n",
       "    </tr>\n",
       "    <tr>\n",
       "      <th>3</th>\n",
       "      <td>1/6/2012</td>\n",
       "      <td>328.34</td>\n",
       "      <td>328.77</td>\n",
       "      <td>323.68</td>\n",
       "      <td>648.24</td>\n",
       "      <td>5,405,900</td>\n",
       "    </tr>\n",
       "    <tr>\n",
       "      <th>4</th>\n",
       "      <td>1/9/2012</td>\n",
       "      <td>322.04</td>\n",
       "      <td>322.29</td>\n",
       "      <td>309.46</td>\n",
       "      <td>620.76</td>\n",
       "      <td>11,688,800</td>\n",
       "    </tr>\n",
       "  </tbody>\n",
       "</table>\n",
       "</div>"
      ],
      "text/plain": [
       "       Date    Open    High     Low   Close      Volume\n",
       "0  1/3/2012  325.25  332.83  324.97  663.59   7,380,500\n",
       "1  1/4/2012  331.27  333.87  329.08  666.45   5,749,400\n",
       "2  1/5/2012  329.83  330.75  326.89  657.21   6,590,300\n",
       "3  1/6/2012  328.34  328.77  323.68  648.24   5,405,900\n",
       "4  1/9/2012  322.04  322.29  309.46  620.76  11,688,800"
      ]
     },
     "execution_count": 3,
     "metadata": {},
     "output_type": "execute_result"
    }
   ],
   "source": [
    "data_train = pd.read_csv('Google_Stock_Price_Train.csv')\n",
    "data_train.head()"
   ]
  },
  {
   "cell_type": "code",
   "execution_count": 5,
   "id": "b32555cd",
   "metadata": {},
   "outputs": [
    {
     "data": {
      "text/plain": [
       "array([[325.25],\n",
       "       [331.27],\n",
       "       [329.83],\n",
       "       ...,\n",
       "       [793.7 ],\n",
       "       [783.33],\n",
       "       [782.75]])"
      ]
     },
     "execution_count": 5,
     "metadata": {},
     "output_type": "execute_result"
    }
   ],
   "source": [
    "train_set = data_train.iloc[:,1:2].values\n",
    "train_set"
   ]
  },
  {
   "cell_type": "code",
   "execution_count": 13,
   "id": "ab78ea56",
   "metadata": {},
   "outputs": [],
   "source": [
    "from sklearn.preprocessing import MinMaxScaler\n",
    "sc = MinMaxScaler(feature_range = (0,1))\n",
    "train_scaled = sc.fit_transform(train_set)"
   ]
  },
  {
   "cell_type": "markdown",
   "id": "e4754d95",
   "metadata": {},
   "source": [
    "### Creating a data structure with 60 timesteps and 1 output\n",
    "it means that x_train will be the 60 days's data and y_train will be output of 60 days"
   ]
  },
  {
   "cell_type": "code",
   "execution_count": 14,
   "id": "8ff542db",
   "metadata": {},
   "outputs": [],
   "source": [
    "x_train = []\n",
    "y_train = []\n",
    "for i in range(60,1258):\n",
    "    x_train.append(train_scaled[i-60:i,0])\n",
    "    y_train.append(train_scaled[i,0])"
   ]
  },
  {
   "cell_type": "code",
   "execution_count": 16,
   "id": "0a852aeb",
   "metadata": {
    "scrolled": true
   },
   "outputs": [
    {
     "data": {
      "text/plain": [
       "[array([0.09701243, 0.09433366, 0.09156187, 0.07984225, 0.0643277 ,\n",
       "        0.0585423 , 0.06568569, 0.06109085, 0.06639259, 0.0614257 ,\n",
       "        0.07474514, 0.02797827, 0.02379269, 0.02409033, 0.0159238 ,\n",
       "        0.01078949, 0.00967334, 0.01642607, 0.02100231, 0.02280676,\n",
       "        0.02273235, 0.02810849, 0.03212665, 0.0433812 , 0.04475779,\n",
       "        0.04790163, 0.0440695 , 0.04648783, 0.04745517, 0.04873875,\n",
       "        0.03936305, 0.04137213, 0.04034898, 0.04784582, 0.04325099,\n",
       "        0.04356723, 0.04286033, 0.04602277, 0.05398467, 0.05738894,\n",
       "        0.05714711, 0.05569611, 0.04421832, 0.04514845, 0.04605997,\n",
       "        0.04412531, 0.03675869, 0.04486941, 0.05065481, 0.05214302,\n",
       "        0.05612397, 0.05818885, 0.06540665, 0.06882953, 0.07243843,\n",
       "        0.07993526, 0.07846566, 0.08034452, 0.08497656, 0.08627874]),\n",
       " array([0.09433366, 0.09156187, 0.07984225, 0.0643277 , 0.0585423 ,\n",
       "        0.06568569, 0.06109085, 0.06639259, 0.0614257 , 0.07474514,\n",
       "        0.02797827, 0.02379269, 0.02409033, 0.0159238 , 0.01078949,\n",
       "        0.00967334, 0.01642607, 0.02100231, 0.02280676, 0.02273235,\n",
       "        0.02810849, 0.03212665, 0.0433812 , 0.04475779, 0.04790163,\n",
       "        0.0440695 , 0.04648783, 0.04745517, 0.04873875, 0.03936305,\n",
       "        0.04137213, 0.04034898, 0.04784582, 0.04325099, 0.04356723,\n",
       "        0.04286033, 0.04602277, 0.05398467, 0.05738894, 0.05714711,\n",
       "        0.05569611, 0.04421832, 0.04514845, 0.04605997, 0.04412531,\n",
       "        0.03675869, 0.04486941, 0.05065481, 0.05214302, 0.05612397,\n",
       "        0.05818885, 0.06540665, 0.06882953, 0.07243843, 0.07993526,\n",
       "        0.07846566, 0.08034452, 0.08497656, 0.08627874, 0.08471612]),\n",
       " array([0.09156187, 0.07984225, 0.0643277 , 0.0585423 , 0.06568569,\n",
       "        0.06109085, 0.06639259, 0.0614257 , 0.07474514, 0.02797827,\n",
       "        0.02379269, 0.02409033, 0.0159238 , 0.01078949, 0.00967334,\n",
       "        0.01642607, 0.02100231, 0.02280676, 0.02273235, 0.02810849,\n",
       "        0.03212665, 0.0433812 , 0.04475779, 0.04790163, 0.0440695 ,\n",
       "        0.04648783, 0.04745517, 0.04873875, 0.03936305, 0.04137213,\n",
       "        0.04034898, 0.04784582, 0.04325099, 0.04356723, 0.04286033,\n",
       "        0.04602277, 0.05398467, 0.05738894, 0.05714711, 0.05569611,\n",
       "        0.04421832, 0.04514845, 0.04605997, 0.04412531, 0.03675869,\n",
       "        0.04486941, 0.05065481, 0.05214302, 0.05612397, 0.05818885,\n",
       "        0.06540665, 0.06882953, 0.07243843, 0.07993526, 0.07846566,\n",
       "        0.08034452, 0.08497656, 0.08627874, 0.08471612, 0.07454052]),\n",
       " array([0.07984225, 0.0643277 , 0.0585423 , 0.06568569, 0.06109085,\n",
       "        0.06639259, 0.0614257 , 0.07474514, 0.02797827, 0.02379269,\n",
       "        0.02409033, 0.0159238 , 0.01078949, 0.00967334, 0.01642607,\n",
       "        0.02100231, 0.02280676, 0.02273235, 0.02810849, 0.03212665,\n",
       "        0.0433812 , 0.04475779, 0.04790163, 0.0440695 , 0.04648783,\n",
       "        0.04745517, 0.04873875, 0.03936305, 0.04137213, 0.04034898,\n",
       "        0.04784582, 0.04325099, 0.04356723, 0.04286033, 0.04602277,\n",
       "        0.05398467, 0.05738894, 0.05714711, 0.05569611, 0.04421832,\n",
       "        0.04514845, 0.04605997, 0.04412531, 0.03675869, 0.04486941,\n",
       "        0.05065481, 0.05214302, 0.05612397, 0.05818885, 0.06540665,\n",
       "        0.06882953, 0.07243843, 0.07993526, 0.07846566, 0.08034452,\n",
       "        0.08497656, 0.08627874, 0.08471612, 0.07454052, 0.07883771])]"
      ]
     },
     "execution_count": 16,
     "metadata": {},
     "output_type": "execute_result"
    }
   ],
   "source": [
    "x_train[1:5]"
   ]
  },
  {
   "cell_type": "code",
   "execution_count": 17,
   "id": "30e8bf7e",
   "metadata": {},
   "outputs": [
    {
     "data": {
      "text/plain": [
       "[0.08471612471166012,\n",
       " 0.07454051640747084,\n",
       " 0.07883771113922167,\n",
       " 0.07238261775429711]"
      ]
     },
     "execution_count": 17,
     "metadata": {},
     "output_type": "execute_result"
    }
   ],
   "source": [
    "y_train[1:5]"
   ]
  },
  {
   "cell_type": "code",
   "execution_count": 22,
   "id": "3e48b96b",
   "metadata": {},
   "outputs": [],
   "source": [
    "x_train, y_train = np.array(x_train),np.array(y_train)"
   ]
  },
  {
   "cell_type": "code",
   "execution_count": 23,
   "id": "ecc92d9b",
   "metadata": {},
   "outputs": [
    {
     "data": {
      "text/plain": [
       "array([[0.08581368, 0.09701243, 0.09433366, ..., 0.07846566, 0.08034452,\n",
       "        0.08497656],\n",
       "       [0.09701243, 0.09433366, 0.09156187, ..., 0.08034452, 0.08497656,\n",
       "        0.08627874],\n",
       "       [0.09433366, 0.09156187, 0.07984225, ..., 0.08497656, 0.08627874,\n",
       "        0.08471612],\n",
       "       ...,\n",
       "       [0.92106928, 0.92438053, 0.93048218, ..., 0.95475854, 0.95204256,\n",
       "        0.95163331],\n",
       "       [0.92438053, 0.93048218, 0.9299055 , ..., 0.95204256, 0.95163331,\n",
       "        0.95725128],\n",
       "       [0.93048218, 0.9299055 , 0.93113327, ..., 0.95163331, 0.95725128,\n",
       "        0.93796041]])"
      ]
     },
     "execution_count": 23,
     "metadata": {},
     "output_type": "execute_result"
    }
   ],
   "source": [
    "x_train"
   ]
  },
  {
   "cell_type": "code",
   "execution_count": 24,
   "id": "26a1b9c1",
   "metadata": {},
   "outputs": [
    {
     "data": {
      "text/plain": [
       "array([0.08471612, 0.07454052, 0.07883771, 0.07238262])"
      ]
     },
     "execution_count": 24,
     "metadata": {},
     "output_type": "execute_result"
    }
   ],
   "source": [
    "y_train[1:5]"
   ]
  },
  {
   "cell_type": "markdown",
   "id": "96f6c146",
   "metadata": {},
   "source": [
    "### Reshaping"
   ]
  },
  {
   "cell_type": "code",
   "execution_count": 25,
   "id": "a974e9e2",
   "metadata": {},
   "outputs": [
    {
     "data": {
      "text/plain": [
       "1198"
      ]
     },
     "execution_count": 25,
     "metadata": {},
     "output_type": "execute_result"
    }
   ],
   "source": [
    "x_train.shape[0]"
   ]
  },
  {
   "cell_type": "code",
   "execution_count": 26,
   "id": "215cafd9",
   "metadata": {},
   "outputs": [
    {
     "data": {
      "text/plain": [
       "60"
      ]
     },
     "execution_count": 26,
     "metadata": {},
     "output_type": "execute_result"
    }
   ],
   "source": [
    "x_train.shape[1]"
   ]
  },
  {
   "cell_type": "code",
   "execution_count": 27,
   "id": "699479ed",
   "metadata": {},
   "outputs": [],
   "source": [
    "x_train = np.reshape(x_train,(x_train.shape[0],x_train.shape[1],1))"
   ]
  },
  {
   "cell_type": "code",
   "execution_count": 28,
   "id": "25e9e3aa",
   "metadata": {},
   "outputs": [
    {
     "data": {
      "text/plain": [
       "array([[[0.08581368],\n",
       "        [0.09701243],\n",
       "        [0.09433366],\n",
       "        ...,\n",
       "        [0.07846566],\n",
       "        [0.08034452],\n",
       "        [0.08497656]],\n",
       "\n",
       "       [[0.09701243],\n",
       "        [0.09433366],\n",
       "        [0.09156187],\n",
       "        ...,\n",
       "        [0.08034452],\n",
       "        [0.08497656],\n",
       "        [0.08627874]],\n",
       "\n",
       "       [[0.09433366],\n",
       "        [0.09156187],\n",
       "        [0.07984225],\n",
       "        ...,\n",
       "        [0.08497656],\n",
       "        [0.08627874],\n",
       "        [0.08471612]],\n",
       "\n",
       "       ...,\n",
       "\n",
       "       [[0.92106928],\n",
       "        [0.92438053],\n",
       "        [0.93048218],\n",
       "        ...,\n",
       "        [0.95475854],\n",
       "        [0.95204256],\n",
       "        [0.95163331]],\n",
       "\n",
       "       [[0.92438053],\n",
       "        [0.93048218],\n",
       "        [0.9299055 ],\n",
       "        ...,\n",
       "        [0.95204256],\n",
       "        [0.95163331],\n",
       "        [0.95725128]],\n",
       "\n",
       "       [[0.93048218],\n",
       "        [0.9299055 ],\n",
       "        [0.93113327],\n",
       "        ...,\n",
       "        [0.95163331],\n",
       "        [0.95725128],\n",
       "        [0.93796041]]])"
      ]
     },
     "execution_count": 28,
     "metadata": {},
     "output_type": "execute_result"
    }
   ],
   "source": [
    "x_train"
   ]
  },
  {
   "cell_type": "markdown",
   "id": "6c616edd",
   "metadata": {},
   "source": [
    "## Part 2 - Building and Training the RNN"
   ]
  },
  {
   "cell_type": "markdown",
   "id": "e20e7ac1",
   "metadata": {},
   "source": [
    "### Importing the Keras libraries and packages"
   ]
  },
  {
   "cell_type": "code",
   "execution_count": 29,
   "id": "9dbd1e94",
   "metadata": {},
   "outputs": [],
   "source": [
    "from keras.models import Sequential\n",
    "from keras.layers import Dense\n",
    "from keras.layers import LSTM\n",
    "from keras.layers import Dropout"
   ]
  },
  {
   "cell_type": "markdown",
   "id": "176d9f42",
   "metadata": {},
   "source": [
    "### Initialising the RNN"
   ]
  },
  {
   "cell_type": "code",
   "execution_count": 30,
   "id": "9b2419db",
   "metadata": {},
   "outputs": [],
   "source": [
    "regressor = Sequential()"
   ]
  },
  {
   "cell_type": "markdown",
   "id": "75caeb00",
   "metadata": {},
   "source": [
    "### Adding the first LSTM layer and some Dropout regularisation"
   ]
  },
  {
   "cell_type": "code",
   "execution_count": 31,
   "id": "fb87db1e",
   "metadata": {},
   "outputs": [
    {
     "name": "stderr",
     "output_type": "stream",
     "text": [
      "C:\\ProgramData\\anaconda3\\envs\\pytorch\\Lib\\site-packages\\keras\\src\\layers\\rnn\\rnn.py:204: UserWarning: Do not pass an `input_shape`/`input_dim` argument to a layer. When using Sequential models, prefer using an `Input(shape)` object as the first layer in the model instead.\n",
      "  super().__init__(**kwargs)\n"
     ]
    }
   ],
   "source": [
    "regressor.add(LSTM(units=50,return_sequences=True,input_shape = (x_train.shape[1],1)))"
   ]
  },
  {
   "cell_type": "markdown",
   "id": "cdf687cc",
   "metadata": {},
   "source": [
    "### Adding a second LSTM layer and some Dropout regularisation"
   ]
  },
  {
   "cell_type": "code",
   "execution_count": 16,
   "id": "7c1ee450",
   "metadata": {},
   "outputs": [],
   "source": [
    "regressor.add(LSTM(units=50,return_sequences=True,input_shape=(x_train.shape[1],1)))\n",
    "regressor.add(Dropout(0.2))"
   ]
  },
  {
   "cell_type": "markdown",
   "id": "c2a84808",
   "metadata": {},
   "source": [
    "### Adding a fourth LSTM layer and some Dropout regularisation"
   ]
  },
  {
   "cell_type": "code",
   "execution_count": 17,
   "id": "c9208904",
   "metadata": {},
   "outputs": [],
   "source": [
    "regressor.add(LSTM(units=50))\n",
    "regressor.add(Dropout(0.2))"
   ]
  },
  {
   "cell_type": "markdown",
   "id": "173cc8c0",
   "metadata": {},
   "source": [
    "### Adding the output layer"
   ]
  },
  {
   "cell_type": "code",
   "execution_count": 18,
   "id": "f4cf810e",
   "metadata": {},
   "outputs": [],
   "source": [
    "regressor.add(Dense(units=1))"
   ]
  },
  {
   "cell_type": "markdown",
   "id": "eec28ea8",
   "metadata": {},
   "source": [
    "### Compiling the RNN"
   ]
  },
  {
   "cell_type": "code",
   "execution_count": 19,
   "id": "052d2b83",
   "metadata": {},
   "outputs": [],
   "source": [
    "regressor.compile(optimizer='adam',loss='mean_squared_error')"
   ]
  },
  {
   "cell_type": "code",
   "execution_count": 20,
   "id": "da9acece",
   "metadata": {},
   "outputs": [
    {
     "name": "stdout",
     "output_type": "stream",
     "text": [
      "Epoch 1/100\n",
      "38/38 [==============================] - 9s 23ms/step - loss: 0.0463\n",
      "Epoch 2/100\n",
      "38/38 [==============================] - 1s 25ms/step - loss: 0.0058\n",
      "Epoch 3/100\n",
      "38/38 [==============================] - 1s 35ms/step - loss: 0.0046\n",
      "Epoch 4/100\n",
      "38/38 [==============================] - 1s 35ms/step - loss: 0.0045\n",
      "Epoch 5/100\n",
      "38/38 [==============================] - 1s 32ms/step - loss: 0.0041\n",
      "Epoch 6/100\n",
      "38/38 [==============================] - 1s 36ms/step - loss: 0.0043\n",
      "Epoch 7/100\n",
      "38/38 [==============================] - 1s 33ms/step - loss: 0.0042\n",
      "Epoch 8/100\n",
      "38/38 [==============================] - 1s 31ms/step - loss: 0.0038\n",
      "Epoch 9/100\n",
      "38/38 [==============================] - 1s 31ms/step - loss: 0.0038\n",
      "Epoch 10/100\n",
      "38/38 [==============================] - 1s 31ms/step - loss: 0.0039\n",
      "Epoch 11/100\n",
      "38/38 [==============================] - 1s 30ms/step - loss: 0.0035\n",
      "Epoch 12/100\n",
      "38/38 [==============================] - 1s 32ms/step - loss: 0.0035\n",
      "Epoch 13/100\n",
      "38/38 [==============================] - 1s 32ms/step - loss: 0.0031\n",
      "Epoch 14/100\n",
      "38/38 [==============================] - 1s 33ms/step - loss: 0.0035\n",
      "Epoch 15/100\n",
      "38/38 [==============================] - 1s 33ms/step - loss: 0.0032\n",
      "Epoch 16/100\n",
      "38/38 [==============================] - 1s 32ms/step - loss: 0.0034\n",
      "Epoch 17/100\n",
      "38/38 [==============================] - 1s 31ms/step - loss: 0.0029\n",
      "Epoch 18/100\n",
      "38/38 [==============================] - 1s 34ms/step - loss: 0.0034\n",
      "Epoch 19/100\n",
      "38/38 [==============================] - 1s 33ms/step - loss: 0.0032\n",
      "Epoch 20/100\n",
      "38/38 [==============================] - 1s 31ms/step - loss: 0.0028\n",
      "Epoch 21/100\n",
      "38/38 [==============================] - 1s 31ms/step - loss: 0.0030\n",
      "Epoch 22/100\n",
      "38/38 [==============================] - 1s 33ms/step - loss: 0.0030\n",
      "Epoch 23/100\n",
      "38/38 [==============================] - 1s 36ms/step - loss: 0.0029\n",
      "Epoch 24/100\n",
      "38/38 [==============================] - 1s 32ms/step - loss: 0.0029\n",
      "Epoch 25/100\n",
      "38/38 [==============================] - 1s 37ms/step - loss: 0.0029\n",
      "Epoch 26/100\n",
      "38/38 [==============================] - 1s 26ms/step - loss: 0.0027\n",
      "Epoch 27/100\n",
      "38/38 [==============================] - 1s 28ms/step - loss: 0.0030\n",
      "Epoch 28/100\n",
      "38/38 [==============================] - 1s 26ms/step - loss: 0.0031\n",
      "Epoch 29/100\n",
      "38/38 [==============================] - 1s 27ms/step - loss: 0.0025\n",
      "Epoch 30/100\n",
      "38/38 [==============================] - 1s 29ms/step - loss: 0.0025\n",
      "Epoch 31/100\n",
      "38/38 [==============================] - 1s 28ms/step - loss: 0.0023\n",
      "Epoch 32/100\n",
      "38/38 [==============================] - 1s 27ms/step - loss: 0.0024\n",
      "Epoch 33/100\n",
      "38/38 [==============================] - 1s 25ms/step - loss: 0.0025\n",
      "Epoch 34/100\n",
      "38/38 [==============================] - 1s 27ms/step - loss: 0.0022\n",
      "Epoch 35/100\n",
      "38/38 [==============================] - 1s 28ms/step - loss: 0.0026\n",
      "Epoch 36/100\n",
      "38/38 [==============================] - 1s 29ms/step - loss: 0.0024\n",
      "Epoch 37/100\n",
      "38/38 [==============================] - 1s 25ms/step - loss: 0.0024\n",
      "Epoch 38/100\n",
      "38/38 [==============================] - 1s 27ms/step - loss: 0.0025\n",
      "Epoch 39/100\n",
      "38/38 [==============================] - 1s 30ms/step - loss: 0.0024\n",
      "Epoch 40/100\n",
      "38/38 [==============================] - 1s 28ms/step - loss: 0.0021\n",
      "Epoch 41/100\n",
      "38/38 [==============================] - 1s 27ms/step - loss: 0.0022\n",
      "Epoch 42/100\n",
      "38/38 [==============================] - 1s 26ms/step - loss: 0.0022\n",
      "Epoch 43/100\n",
      "38/38 [==============================] - 1s 32ms/step - loss: 0.0022\n",
      "Epoch 44/100\n",
      "38/38 [==============================] - 1s 26ms/step - loss: 0.0023\n",
      "Epoch 45/100\n",
      "38/38 [==============================] - 1s 27ms/step - loss: 0.0019\n",
      "Epoch 46/100\n",
      "38/38 [==============================] - 1s 30ms/step - loss: 0.0019\n",
      "Epoch 47/100\n",
      "38/38 [==============================] - 1s 36ms/step - loss: 0.0021\n",
      "Epoch 48/100\n",
      "38/38 [==============================] - 1s 27ms/step - loss: 0.0018\n",
      "Epoch 49/100\n",
      "38/38 [==============================] - 1s 29ms/step - loss: 0.0019\n",
      "Epoch 50/100\n",
      "38/38 [==============================] - 1s 27ms/step - loss: 0.0020\n",
      "Epoch 51/100\n",
      "38/38 [==============================] - 1s 25ms/step - loss: 0.0020\n",
      "Epoch 52/100\n",
      "38/38 [==============================] - 1s 25ms/step - loss: 0.0017\n",
      "Epoch 53/100\n",
      "38/38 [==============================] - 1s 27ms/step - loss: 0.0019\n",
      "Epoch 54/100\n",
      "38/38 [==============================] - 1s 28ms/step - loss: 0.0017\n",
      "Epoch 55/100\n",
      "38/38 [==============================] - 1s 25ms/step - loss: 0.0021\n",
      "Epoch 56/100\n",
      "38/38 [==============================] - 1s 26ms/step - loss: 0.0018\n",
      "Epoch 57/100\n",
      "38/38 [==============================] - 1s 28ms/step - loss: 0.0017\n",
      "Epoch 58/100\n",
      "38/38 [==============================] - 1s 28ms/step - loss: 0.0018\n",
      "Epoch 59/100\n",
      "38/38 [==============================] - 1s 27ms/step - loss: 0.0014\n",
      "Epoch 60/100\n",
      "38/38 [==============================] - 1s 23ms/step - loss: 0.0018\n",
      "Epoch 61/100\n",
      "38/38 [==============================] - 1s 29ms/step - loss: 0.0017\n",
      "Epoch 62/100\n",
      "38/38 [==============================] - 1s 29ms/step - loss: 0.0018\n",
      "Epoch 63/100\n",
      "38/38 [==============================] - 1s 30ms/step - loss: 0.0016\n",
      "Epoch 64/100\n",
      "38/38 [==============================] - 1s 24ms/step - loss: 0.0016\n",
      "Epoch 65/100\n",
      "38/38 [==============================] - 1s 27ms/step - loss: 0.0015\n",
      "Epoch 66/100\n",
      "38/38 [==============================] - 1s 25ms/step - loss: 0.0017\n",
      "Epoch 67/100\n",
      "38/38 [==============================] - 1s 24ms/step - loss: 0.0015\n",
      "Epoch 68/100\n",
      "38/38 [==============================] - 1s 25ms/step - loss: 0.0014\n",
      "Epoch 69/100\n",
      "38/38 [==============================] - 1s 30ms/step - loss: 0.0015\n",
      "Epoch 70/100\n",
      "38/38 [==============================] - 1s 29ms/step - loss: 0.0017\n",
      "Epoch 71/100\n",
      "38/38 [==============================] - 1s 27ms/step - loss: 0.0017\n",
      "Epoch 72/100\n",
      "38/38 [==============================] - 1s 27ms/step - loss: 0.0014\n",
      "Epoch 73/100\n",
      "38/38 [==============================] - 1s 29ms/step - loss: 0.0014\n",
      "Epoch 74/100\n",
      "38/38 [==============================] - 1s 27ms/step - loss: 0.0014\n",
      "Epoch 75/100\n",
      "38/38 [==============================] - 1s 25ms/step - loss: 0.0013\n",
      "Epoch 76/100\n",
      "38/38 [==============================] - 1s 26ms/step - loss: 0.0014\n",
      "Epoch 77/100\n",
      "38/38 [==============================] - 1s 33ms/step - loss: 0.0013\n",
      "Epoch 78/100\n",
      "38/38 [==============================] - 1s 30ms/step - loss: 0.0012\n",
      "Epoch 79/100\n",
      "38/38 [==============================] - 1s 25ms/step - loss: 0.0014\n",
      "Epoch 80/100\n",
      "38/38 [==============================] - 1s 28ms/step - loss: 0.0013\n",
      "Epoch 81/100\n",
      "38/38 [==============================] - 1s 25ms/step - loss: 0.0013\n",
      "Epoch 82/100\n",
      "38/38 [==============================] - 1s 26ms/step - loss: 0.0015\n",
      "Epoch 83/100\n",
      "38/38 [==============================] - 1s 23ms/step - loss: 0.0013\n",
      "Epoch 84/100\n",
      "38/38 [==============================] - 1s 24ms/step - loss: 0.0015\n",
      "Epoch 85/100\n",
      "38/38 [==============================] - 1s 25ms/step - loss: 0.0016\n",
      "Epoch 86/100\n",
      "38/38 [==============================] - 1s 25ms/step - loss: 0.0012\n",
      "Epoch 87/100\n",
      "38/38 [==============================] - 1s 26ms/step - loss: 0.0012\n",
      "Epoch 88/100\n",
      "38/38 [==============================] - 1s 27ms/step - loss: 0.0013\n",
      "Epoch 89/100\n",
      "38/38 [==============================] - 1s 30ms/step - loss: 0.0012\n",
      "Epoch 90/100\n",
      "38/38 [==============================] - 1s 25ms/step - loss: 0.0010\n",
      "Epoch 91/100\n",
      "38/38 [==============================] - 1s 23ms/step - loss: 0.0012\n",
      "Epoch 92/100\n",
      "38/38 [==============================] - 1s 25ms/step - loss: 0.0015\n",
      "Epoch 93/100\n",
      "38/38 [==============================] - 1s 27ms/step - loss: 0.0011\n",
      "Epoch 94/100\n",
      "38/38 [==============================] - 1s 30ms/step - loss: 0.0013\n",
      "Epoch 95/100\n",
      "38/38 [==============================] - 1s 24ms/step - loss: 0.0012\n",
      "Epoch 96/100\n",
      "38/38 [==============================] - 1s 24ms/step - loss: 0.0012\n",
      "Epoch 97/100\n",
      "38/38 [==============================] - 1s 27ms/step - loss: 0.0012\n",
      "Epoch 98/100\n",
      "38/38 [==============================] - 1s 24ms/step - loss: 0.0011\n",
      "Epoch 99/100\n",
      "38/38 [==============================] - 1s 24ms/step - loss: 0.0012\n",
      "Epoch 100/100\n",
      "38/38 [==============================] - 1s 29ms/step - loss: 0.0011\n"
     ]
    },
    {
     "data": {
      "text/plain": [
       "<keras.callbacks.History at 0x1949ca01b20>"
      ]
     },
     "execution_count": 20,
     "metadata": {},
     "output_type": "execute_result"
    }
   ],
   "source": [
    "regressor.fit(x_train,y_train,epochs=100,batch_size=32)"
   ]
  },
  {
   "cell_type": "markdown",
   "id": "0d46322f",
   "metadata": {},
   "source": [
    "## Part 3 - Making the predictions and visualising the results"
   ]
  },
  {
   "cell_type": "markdown",
   "id": "02d6aa9d",
   "metadata": {},
   "source": [
    "### Getting the real stock price of 2017"
   ]
  },
  {
   "cell_type": "code",
   "execution_count": 32,
   "id": "8922766a",
   "metadata": {},
   "outputs": [],
   "source": [
    "data_test = pd.read_csv('Google_Stock_Price_Test.csv')"
   ]
  },
  {
   "cell_type": "code",
   "execution_count": 33,
   "id": "78b4cc1c",
   "metadata": {},
   "outputs": [
    {
     "data": {
      "text/html": [
       "<div>\n",
       "<style scoped>\n",
       "    .dataframe tbody tr th:only-of-type {\n",
       "        vertical-align: middle;\n",
       "    }\n",
       "\n",
       "    .dataframe tbody tr th {\n",
       "        vertical-align: top;\n",
       "    }\n",
       "\n",
       "    .dataframe thead th {\n",
       "        text-align: right;\n",
       "    }\n",
       "</style>\n",
       "<table border=\"1\" class=\"dataframe\">\n",
       "  <thead>\n",
       "    <tr style=\"text-align: right;\">\n",
       "      <th></th>\n",
       "      <th>Date</th>\n",
       "      <th>Open</th>\n",
       "      <th>High</th>\n",
       "      <th>Low</th>\n",
       "      <th>Close</th>\n",
       "      <th>Volume</th>\n",
       "    </tr>\n",
       "  </thead>\n",
       "  <tbody>\n",
       "    <tr>\n",
       "      <th>0</th>\n",
       "      <td>1/3/2017</td>\n",
       "      <td>778.81</td>\n",
       "      <td>789.63</td>\n",
       "      <td>775.80</td>\n",
       "      <td>786.14</td>\n",
       "      <td>1,657,300</td>\n",
       "    </tr>\n",
       "    <tr>\n",
       "      <th>1</th>\n",
       "      <td>1/4/2017</td>\n",
       "      <td>788.36</td>\n",
       "      <td>791.34</td>\n",
       "      <td>783.16</td>\n",
       "      <td>786.90</td>\n",
       "      <td>1,073,000</td>\n",
       "    </tr>\n",
       "    <tr>\n",
       "      <th>2</th>\n",
       "      <td>1/5/2017</td>\n",
       "      <td>786.08</td>\n",
       "      <td>794.48</td>\n",
       "      <td>785.02</td>\n",
       "      <td>794.02</td>\n",
       "      <td>1,335,200</td>\n",
       "    </tr>\n",
       "    <tr>\n",
       "      <th>3</th>\n",
       "      <td>1/6/2017</td>\n",
       "      <td>795.26</td>\n",
       "      <td>807.90</td>\n",
       "      <td>792.20</td>\n",
       "      <td>806.15</td>\n",
       "      <td>1,640,200</td>\n",
       "    </tr>\n",
       "    <tr>\n",
       "      <th>4</th>\n",
       "      <td>1/9/2017</td>\n",
       "      <td>806.40</td>\n",
       "      <td>809.97</td>\n",
       "      <td>802.83</td>\n",
       "      <td>806.65</td>\n",
       "      <td>1,272,400</td>\n",
       "    </tr>\n",
       "  </tbody>\n",
       "</table>\n",
       "</div>"
      ],
      "text/plain": [
       "       Date    Open    High     Low   Close     Volume\n",
       "0  1/3/2017  778.81  789.63  775.80  786.14  1,657,300\n",
       "1  1/4/2017  788.36  791.34  783.16  786.90  1,073,000\n",
       "2  1/5/2017  786.08  794.48  785.02  794.02  1,335,200\n",
       "3  1/6/2017  795.26  807.90  792.20  806.15  1,640,200\n",
       "4  1/9/2017  806.40  809.97  802.83  806.65  1,272,400"
      ]
     },
     "execution_count": 33,
     "metadata": {},
     "output_type": "execute_result"
    }
   ],
   "source": [
    "data_test.head()"
   ]
  },
  {
   "cell_type": "code",
   "execution_count": 34,
   "id": "6385b460",
   "metadata": {},
   "outputs": [],
   "source": [
    "real_price = data_test.iloc[:,1:2].values"
   ]
  },
  {
   "cell_type": "code",
   "execution_count": 35,
   "id": "f8eed3ce",
   "metadata": {},
   "outputs": [
    {
     "data": {
      "text/plain": [
       "array([[778.81],\n",
       "       [788.36],\n",
       "       [786.08],\n",
       "       [795.26],\n",
       "       [806.4 ],\n",
       "       [807.86],\n",
       "       [805.  ],\n",
       "       [807.14],\n",
       "       [807.48],\n",
       "       [807.08],\n",
       "       [805.81],\n",
       "       [805.12],\n",
       "       [806.91],\n",
       "       [807.25],\n",
       "       [822.3 ],\n",
       "       [829.62],\n",
       "       [837.81],\n",
       "       [834.71],\n",
       "       [814.66],\n",
       "       [796.86]])"
      ]
     },
     "execution_count": 35,
     "metadata": {},
     "output_type": "execute_result"
    }
   ],
   "source": [
    "real_price"
   ]
  },
  {
   "cell_type": "markdown",
   "id": "55b9c100",
   "metadata": {},
   "source": [
    "### Getting the predicted stock price of 2017"
   ]
  },
  {
   "cell_type": "code",
   "execution_count": 36,
   "id": "7dc419a0",
   "metadata": {},
   "outputs": [
    {
     "data": {
      "text/plain": [
       "array([779.  , 779.66, 777.71, 786.66, 783.76, 781.22, 781.65, 779.8 ,\n",
       "       787.85, 798.24, 803.3 , 795.  , 804.9 , 816.68, 806.34, 801.  ,\n",
       "       808.35, 795.47, 782.89, 778.2 , 767.25, 750.66, 774.5 , 783.4 ,\n",
       "       779.94, 791.17, 756.54, 755.6 , 746.97, 755.2 , 766.92, 771.37,\n",
       "       762.61, 772.63, 767.73, 764.26, 760.  , 771.53, 770.07, 757.44,\n",
       "       744.59, 757.71, 764.73, 761.  , 772.48, 780.  , 785.04, 793.9 ,\n",
       "       797.4 , 797.34, 800.4 , 790.22, 796.76, 795.84, 792.36, 790.9 ,\n",
       "       790.68, 793.7 , 783.33, 782.75, 778.81, 788.36, 786.08, 795.26,\n",
       "       806.4 , 807.86, 805.  , 807.14, 807.48, 807.08, 805.81, 805.12,\n",
       "       806.91, 807.25, 822.3 , 829.62, 837.81, 834.71, 814.66, 796.86])"
      ]
     },
     "execution_count": 36,
     "metadata": {},
     "output_type": "execute_result"
    }
   ],
   "source": [
    "data_total = pd.concat((data_train['Open'],data_test['Open']),axis=0)\n",
    "inputs = data_total[len(data_total)-len(data_test)-60:].values\n",
    "inputs"
   ]
  },
  {
   "cell_type": "code",
   "execution_count": 41,
   "id": "2e283562",
   "metadata": {},
   "outputs": [
    {
     "data": {
      "text/plain": [
       "array([[779.  ],\n",
       "       [779.66],\n",
       "       [777.71],\n",
       "       [786.66],\n",
       "       [783.76],\n",
       "       [781.22],\n",
       "       [781.65],\n",
       "       [779.8 ],\n",
       "       [787.85],\n",
       "       [798.24],\n",
       "       [803.3 ],\n",
       "       [795.  ],\n",
       "       [804.9 ],\n",
       "       [816.68],\n",
       "       [806.34],\n",
       "       [801.  ],\n",
       "       [808.35],\n",
       "       [795.47],\n",
       "       [782.89],\n",
       "       [778.2 ],\n",
       "       [767.25],\n",
       "       [750.66],\n",
       "       [774.5 ],\n",
       "       [783.4 ],\n",
       "       [779.94],\n",
       "       [791.17],\n",
       "       [756.54],\n",
       "       [755.6 ],\n",
       "       [746.97],\n",
       "       [755.2 ],\n",
       "       [766.92],\n",
       "       [771.37],\n",
       "       [762.61],\n",
       "       [772.63],\n",
       "       [767.73],\n",
       "       [764.26],\n",
       "       [760.  ],\n",
       "       [771.53],\n",
       "       [770.07],\n",
       "       [757.44],\n",
       "       [744.59],\n",
       "       [757.71],\n",
       "       [764.73],\n",
       "       [761.  ],\n",
       "       [772.48],\n",
       "       [780.  ],\n",
       "       [785.04],\n",
       "       [793.9 ],\n",
       "       [797.4 ],\n",
       "       [797.34],\n",
       "       [800.4 ],\n",
       "       [790.22],\n",
       "       [796.76],\n",
       "       [795.84],\n",
       "       [792.36],\n",
       "       [790.9 ],\n",
       "       [790.68],\n",
       "       [793.7 ],\n",
       "       [783.33],\n",
       "       [782.75],\n",
       "       [778.81],\n",
       "       [788.36],\n",
       "       [786.08],\n",
       "       [795.26],\n",
       "       [806.4 ],\n",
       "       [807.86],\n",
       "       [805.  ],\n",
       "       [807.14],\n",
       "       [807.48],\n",
       "       [807.08],\n",
       "       [805.81],\n",
       "       [805.12],\n",
       "       [806.91],\n",
       "       [807.25],\n",
       "       [822.3 ],\n",
       "       [829.62],\n",
       "       [837.81],\n",
       "       [834.71],\n",
       "       [814.66],\n",
       "       [796.86]])"
      ]
     },
     "execution_count": 41,
     "metadata": {},
     "output_type": "execute_result"
    }
   ],
   "source": [
    "inputs = inputs.reshape(-1,1)\n",
    "inputs"
   ]
  },
  {
   "cell_type": "code",
   "execution_count": 44,
   "id": "23d81d36",
   "metadata": {},
   "outputs": [
    {
     "data": {
      "text/plain": [
       "array([-0.52019776, -0.52019775, -0.52019776, -0.52019771, -0.52019772,\n",
       "       -0.52019774, -0.52019774, -0.52019775, -0.5201977 , -0.52019763,\n",
       "       -0.5201976 , -0.52019765, -0.52019759, -0.52019751, -0.52019758,\n",
       "       -0.52019761, -0.52019757, -0.52019765, -0.52019773, -0.52019776])"
      ]
     },
     "execution_count": 44,
     "metadata": {},
     "output_type": "execute_result"
    }
   ],
   "source": [
    "inputs = sc.transform(inputs)\n",
    "x_test = []\n",
    "for i in range(60,80):\n",
    "    x_test.append(inputs[i-60:i,0])\n",
    "x_test[0][0:20]"
   ]
  },
  {
   "cell_type": "code",
   "execution_count": 28,
   "id": "e98bbe73",
   "metadata": {},
   "outputs": [
    {
     "data": {
      "text/plain": [
       "array([[0.9299055 , 0.93113327, 0.92750577, ..., 0.95725128, 0.93796041,\n",
       "        0.93688146],\n",
       "       [0.93113327, 0.92750577, 0.94415507, ..., 0.93796041, 0.93688146,\n",
       "        0.92955205],\n",
       "       [0.92750577, 0.94415507, 0.93876032, ..., 0.93688146, 0.92955205,\n",
       "        0.94731751],\n",
       "       ...,\n",
       "       [0.96054394, 0.9371419 , 0.92841729, ..., 1.01045465, 1.02407173,\n",
       "        1.03930724],\n",
       "       [0.9371419 , 0.92841729, 0.90804747, ..., 1.02407173, 1.03930724,\n",
       "        1.03354044],\n",
       "       [0.92841729, 0.90804747, 0.8771858 , ..., 1.03930724, 1.03354044,\n",
       "        0.99624228]])"
      ]
     },
     "execution_count": 28,
     "metadata": {},
     "output_type": "execute_result"
    }
   ],
   "source": [
    "x_test = np.array(x_test)\n",
    "x_test"
   ]
  },
  {
   "cell_type": "code",
   "execution_count": 33,
   "id": "80e9add4",
   "metadata": {},
   "outputs": [
    {
     "data": {
      "text/plain": [
       "20"
      ]
     },
     "execution_count": 33,
     "metadata": {},
     "output_type": "execute_result"
    }
   ],
   "source": [
    "x_test.shape[0]"
   ]
  },
  {
   "cell_type": "code",
   "execution_count": 32,
   "id": "c75c4c3c",
   "metadata": {},
   "outputs": [
    {
     "data": {
      "text/plain": [
       "60"
      ]
     },
     "execution_count": 32,
     "metadata": {},
     "output_type": "execute_result"
    }
   ],
   "source": [
    "x_test.shape[1]"
   ]
  },
  {
   "cell_type": "code",
   "execution_count": 29,
   "id": "9f740b06",
   "metadata": {},
   "outputs": [
    {
     "data": {
      "text/plain": [
       "array([[[0.9299055 ],\n",
       "        [0.93113327],\n",
       "        [0.92750577],\n",
       "        ...,\n",
       "        [0.95725128],\n",
       "        [0.93796041],\n",
       "        [0.93688146]],\n",
       "\n",
       "       [[0.93113327],\n",
       "        [0.92750577],\n",
       "        [0.94415507],\n",
       "        ...,\n",
       "        [0.93796041],\n",
       "        [0.93688146],\n",
       "        [0.92955205]],\n",
       "\n",
       "       [[0.92750577],\n",
       "        [0.94415507],\n",
       "        [0.93876032],\n",
       "        ...,\n",
       "        [0.93688146],\n",
       "        [0.92955205],\n",
       "        [0.94731751]],\n",
       "\n",
       "       ...,\n",
       "\n",
       "       [[0.96054394],\n",
       "        [0.9371419 ],\n",
       "        [0.92841729],\n",
       "        ...,\n",
       "        [1.01045465],\n",
       "        [1.02407173],\n",
       "        [1.03930724]],\n",
       "\n",
       "       [[0.9371419 ],\n",
       "        [0.92841729],\n",
       "        [0.90804747],\n",
       "        ...,\n",
       "        [1.02407173],\n",
       "        [1.03930724],\n",
       "        [1.03354044]],\n",
       "\n",
       "       [[0.92841729],\n",
       "        [0.90804747],\n",
       "        [0.8771858 ],\n",
       "        ...,\n",
       "        [1.03930724],\n",
       "        [1.03354044],\n",
       "        [0.99624228]]])"
      ]
     },
     "execution_count": 29,
     "metadata": {},
     "output_type": "execute_result"
    }
   ],
   "source": [
    "x_test = np.reshape(x_test,(x_test.shape[0],x_test.shape[1],1))\n",
    "x_test"
   ]
  },
  {
   "cell_type": "code",
   "execution_count": 30,
   "id": "d7f128ec",
   "metadata": {},
   "outputs": [
    {
     "name": "stdout",
     "output_type": "stream",
     "text": [
      "1/1 [==============================] - 2s 2s/step\n"
     ]
    }
   ],
   "source": [
    "pridicted_stock_price = regressor.predict(x_test)\n",
    "predicted_stock_price = sc.inverse_transform(pridicted_stock_price)"
   ]
  },
  {
   "cell_type": "markdown",
   "id": "c8385ac2",
   "metadata": {},
   "source": [
    "### Visualising the results"
   ]
  },
  {
   "cell_type": "code",
   "execution_count": 31,
   "id": "953c9997",
   "metadata": {},
   "outputs": [
    {
     "data": {
      "image/png": "[encoded data removed]",
      "text/plain": [
       "<Figure size 640x480 with 1 Axes>"
      ]
     },
     "metadata": {},
     "output_type": "display_data"
    }
   ],
   "source": [
    "plt.plot(real_price,color='red',label='Real Google Price')\n",
    "plt.plot(predicted_stock_price,color = 'blue',label='Pridicted Google Stock Price')\n",
    "plt.title('Google Stock Price Prediction')\n",
    "plt.xlabel(\"Time\")\n",
    "plt.ylabel('Google Stock Price')\n",
    "plt.legend()\n",
    "plt.show()"
   ]
  }
 ],
 "metadata": {
  "kernelspec": {
   "display_name": "Python 3 (ipykernel)",
   "language": "python",
   "name": "python3"
  },
  "language_info": {
   "codemirror_mode": {
    "name": "ipython",
    "version": 3
   },
   "file_extension": ".py",
   "mimetype": "text/x-python",
   "name": "python",
   "nbconvert_exporter": "python",
   "pygments_lexer": "ipython3",
   "version": "3.11.8"
  }
 },
 "nbformat": 4,
 "nbformat_minor": 5
}
